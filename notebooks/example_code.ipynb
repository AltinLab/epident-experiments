{
 "cells": [
  {
   "cell_type": "markdown",
   "id": "257bb096",
   "metadata": {},
   "source": [
    "## Bepipred 3 dataset\n",
    "\n",
    "- job_name: unique identifier for protein, comes from hash of seq\n",
    "- seq: amino acid sequence of protein\n",
    "- test: boolean indicating if seq is part of test set\n",
    "- epitope_boolmask: boolean array the same length as seq indiciating if the AA at that position is an epitope residue\n",
    "- raw_protein_id: original ID assigned to protein in BP3C50ID set\n",
    "- RSA: relative solvent accessiblity of the protein at each AA, calculated by FreeSASA\n",
    "- SA: absolute solvent accessibility of the protein at each AA, calculated by FreeSASA"
   ]
  },
  {
   "cell_type": "code",
   "execution_count": 22,
   "id": "777f08b2",
   "metadata": {},
   "outputs": [
    {
     "data": {
      "text/html": [
       "<div><style>\n",
       ".dataframe > thead > tr,\n",
       ".dataframe > tbody > tr {\n",
       "  text-align: right;\n",
       "  white-space: pre-wrap;\n",
       "}\n",
       "</style>\n",
       "<small>shape: (358, 7)</small><table border=\"1\" class=\"dataframe\"><thead><tr><th>job_name</th><th>seq</th><th>test</th><th>epitope_boolmask</th><th>raw_protein_id</th><th>RSA</th><th>SA</th></tr><tr><td>str</td><td>str</td><td>bool</td><td>list[bool]</td><td>str</td><td>list[f64]</td><td>list[f64]</td></tr></thead><tbody><tr><td>&quot;bf2a62534941cf895971e1daa33a46…</td><td>&quot;LIQTPSSLLVQTNHTAKMSCEVKSISKLTS…</td><td>true</td><td>[false, false, … false]</td><td>&quot;3b9k_B&quot;</td><td>[0.205823, 0.471213, … 1.001547]</td><td>[36.957627, 82.806331, … 152.205138]</td></tr><tr><td>&quot;d4febd28417e8a4bf6266337c7a2de…</td><td>&quot;GNVDLVFLFDGSMSLQPDEFQKILDFMKDV…</td><td>true</td><td>[false, false, … false]</td><td>&quot;3hi6_A&quot;</td><td>[0.840245, 0.294451, … 0.605393]</td><td>[68.13546, 42.698276, … 129.669178]</td></tr><tr><td>&quot;17d233a2b305a3544cf6c164f8ad67…</td><td>&quot;DERETWSGKVDFLLSVIGFAVDLANVWRFP…</td><td>true</td><td>[false, false, … false]</td><td>&quot;4xp9_C&quot;</td><td>[1.100846, 1.039373, … 1.03129]</td><td>[157.156786, 181.038055, … 185.178502]</td></tr><tr><td>&quot;34e0c5de18ccd222f24d4bc9d0f0e4…</td><td>&quot;KAMHVAQPAVVLASSRGIASFVCEYASPGK…</td><td>true</td><td>[true, true, … false]</td><td>&quot;5ggv_Y&quot;</td><td>[0.731129, 0.872878, … 1.227995]</td><td>[149.866882, 94.934212, … 168.493256]</td></tr><tr><td>&quot;f4c930a3f1b5fb78cef62c5021adc0…</td><td>&quot;GSHHHHHHGSGTDITNQLTNVTVGIDSGTT…</td><td>true</td><td>[false, false, … false]</td><td>&quot;5jq6_A&quot;</td><td>[1.462795, 0.796439, … 0.90302]</td><td>[118.618012, 94.250586, … 119.379304]</td></tr><tr><td>&hellip;</td><td>&hellip;</td><td>&hellip;</td><td>&hellip;</td><td>&hellip;</td><td>&hellip;</td><td>&hellip;</td></tr><tr><td>&quot;2c282aeeb88596bf1f1f99be1bb7f0…</td><td>&quot;LDKIDLSYETTESGDTAVSEDSYDKYASQN…</td><td>false</td><td>[false, false, … false]</td><td>&quot;7jum_A&quot;</td><td>[0.474081, 0.908022, … 0.986187]</td><td>[85.126053, 129.629226, … 143.007018]</td></tr><tr><td>&quot;5196520df0000bf1b3fafa8c0e9ecc…</td><td>&quot;TDRQLAEEYLYRYGYTRVASLGPALLLLQK…</td><td>false</td><td>[false, false, … false]</td><td>&quot;5th9_A&quot;</td><td>[0.871364, 0.432033, … 0.256134]</td><td>[122.513787, 61.677101, … 54.861323]</td></tr><tr><td>&quot;96836e4358c57e3f571a4f2bb8a8f8…</td><td>&quot;LPWLNVSADGDNVHLVLNVSEEQHFGLSLY…</td><td>false</td><td>[false, false, … true]</td><td>&quot;6hga_B&quot;</td><td>[0.93068, 0.110532, … 1.220648]</td><td>[167.112849, 15.166135, … 223.341912]</td></tr><tr><td>&quot;9d838eec0c24655e9902a3ac128a34…</td><td>&quot;CSSPPCECHQEEDFRVTCKDIQRIPSLPPS…</td><td>false</td><td>[false, false, … false]</td><td>&quot;2xwt_C&quot;</td><td>[0.479508, 1.059907, … 0.528113]</td><td>[63.390948, 125.429402, … 74.252646]</td></tr><tr><td>&quot;cb56653d3f7b5272b7874963549242…</td><td>&quot;CSVVVGENYSIKCDATKCTIEDKNRGIIKT…</td><td>false</td><td>[false, false, … false]</td><td>&quot;6vtw_A&quot;</td><td>[0.628252, 0.682526, … 0.637367]</td><td>[83.054881, 80.770091, … 113.980313]</td></tr></tbody></table></div>"
      ],
      "text/plain": [
       "shape: (358, 7)\n",
       "┌───────────────┬──────────────┬───────┬──────────────┬──────────────┬──────────────┬──────────────┐\n",
       "│ job_name      ┆ seq          ┆ test  ┆ epitope_bool ┆ raw_protein_ ┆ RSA          ┆ SA           │\n",
       "│ ---           ┆ ---          ┆ ---   ┆ mask         ┆ id           ┆ ---          ┆ ---          │\n",
       "│ str           ┆ str          ┆ bool  ┆ ---          ┆ ---          ┆ list[f64]    ┆ list[f64]    │\n",
       "│               ┆              ┆       ┆ list[bool]   ┆ str          ┆              ┆              │\n",
       "╞═══════════════╪══════════════╪═══════╪══════════════╪══════════════╪══════════════╪══════════════╡\n",
       "│ bf2a62534941c ┆ LIQTPSSLLVQT ┆ true  ┆ [false,      ┆ 3b9k_B       ┆ [0.205823,   ┆ [36.957627,  │\n",
       "│ f895971e1daa3 ┆ NHTAKMSCEVKS ┆       ┆ false, …     ┆              ┆ 0.471213, …  ┆ 82.806331, … │\n",
       "│ 3a46…         ┆ ISKLTS…      ┆       ┆ false]       ┆              ┆ 1.00154…     ┆ 152.2…       │\n",
       "│ d4febd28417e8 ┆ GNVDLVFLFDGS ┆ true  ┆ [false,      ┆ 3hi6_A       ┆ [0.840245,   ┆ [68.13546,   │\n",
       "│ a4bf6266337c7 ┆ MSLQPDEFQKIL ┆       ┆ false, …     ┆              ┆ 0.294451, …  ┆ 42.698276, … │\n",
       "│ a2de…         ┆ DFMKDV…      ┆       ┆ false]       ┆              ┆ 0.60539…     ┆ 129.66…      │\n",
       "│ 17d233a2b305a ┆ DERETWSGKVDF ┆ true  ┆ [false,      ┆ 4xp9_C       ┆ [1.100846,   ┆ [157.156786, │\n",
       "│ 3544cf6c164f8 ┆ LLSVIGFAVDLA ┆       ┆ false, …     ┆              ┆ 1.039373, …  ┆ 181.038055,  │\n",
       "│ ad67…         ┆ NVWRFP…      ┆       ┆ false]       ┆              ┆ 1.03129…     ┆ … 185…       │\n",
       "│ 34e0c5de18ccd ┆ KAMHVAQPAVVL ┆ true  ┆ [true, true, ┆ 5ggv_Y       ┆ [0.731129,   ┆ [149.866882, │\n",
       "│ 222f24d4bc9d0 ┆ ASSRGIASFVCE ┆       ┆ … false]     ┆              ┆ 0.872878, …  ┆ 94.934212, … │\n",
       "│ f0e4…         ┆ YASPGK…      ┆       ┆              ┆              ┆ 1.22799…     ┆ 168.…        │\n",
       "│ f4c930a3f1b5f ┆ GSHHHHHHGSGT ┆ true  ┆ [false,      ┆ 5jq6_A       ┆ [1.462795,   ┆ [118.618012, │\n",
       "│ b78cef62c5021 ┆ DITNQLTNVTVG ┆       ┆ false, …     ┆              ┆ 0.796439, …  ┆ 94.250586, … │\n",
       "│ adc0…         ┆ IDSGTT…      ┆       ┆ false]       ┆              ┆ 0.90302…     ┆ 119.…        │\n",
       "│ …             ┆ …            ┆ …     ┆ …            ┆ …            ┆ …            ┆ …            │\n",
       "│ 2c282aeeb8859 ┆ LDKIDLSYETTE ┆ false ┆ [false,      ┆ 7jum_A       ┆ [0.474081,   ┆ [85.126053,  │\n",
       "│ 6bf1f1f99be1b ┆ SGDTAVSEDSYD ┆       ┆ false, …     ┆              ┆ 0.908022, …  ┆ 129.629226,  │\n",
       "│ b7f0…         ┆ KYASQN…      ┆       ┆ false]       ┆              ┆ 0.98618…     ┆ … 143.…      │\n",
       "│ 5196520df0000 ┆ TDRQLAEEYLYR ┆ false ┆ [false,      ┆ 5th9_A       ┆ [0.871364,   ┆ [122.513787, │\n",
       "│ bf1b3fafa8c0e ┆ YGYTRVASLGPA ┆       ┆ false, …     ┆              ┆ 0.432033, …  ┆ 61.677101, … │\n",
       "│ 9ecc…         ┆ LLLLQK…      ┆       ┆ false]       ┆              ┆ 0.25613…     ┆ 54.8…        │\n",
       "│ 96836e4358c57 ┆ LPWLNVSADGDN ┆ false ┆ [false,      ┆ 6hga_B       ┆ [0.93068,    ┆ [167.112849, │\n",
       "│ e3f571a4f2bb8 ┆ VHLVLNVSEEQH ┆       ┆ false, …     ┆              ┆ 0.110532, …  ┆ 15.166135, … │\n",
       "│ a8f8…         ┆ FGLSLY…      ┆       ┆ true]        ┆              ┆ 1.220648…    ┆ 223.…        │\n",
       "│ 9d838eec0c246 ┆ CSSPPCECHQEE ┆ false ┆ [false,      ┆ 2xwt_C       ┆ [0.479508,   ┆ [63.390948,  │\n",
       "│ 55e9902a3ac12 ┆ DFRVTCKDIQRI ┆       ┆ false, …     ┆              ┆ 1.059907, …  ┆ 125.429402,  │\n",
       "│ 8a34…         ┆ PSLPPS…      ┆       ┆ false]       ┆              ┆ 0.52811…     ┆ … 74.2…      │\n",
       "│ cb56653d3f7b5 ┆ CSVVVGENYSIK ┆ false ┆ [false,      ┆ 6vtw_A       ┆ [0.628252,   ┆ [83.054881,  │\n",
       "│ 272b787496354 ┆ CDATKCTIEDKN ┆       ┆ false, …     ┆              ┆ 0.682526, …  ┆ 80.770091, … │\n",
       "│ 9242…         ┆ RGIIKT…      ┆       ┆ false]       ┆              ┆ 0.63736…     ┆ 113.9…       │\n",
       "└───────────────┴──────────────┴───────┴──────────────┴──────────────┴──────────────┴──────────────┘"
      ]
     },
     "execution_count": 22,
     "metadata": {},
     "output_type": "execute_result"
    }
   ],
   "source": [
    "import polars as pl\n",
    "\n",
    "bp3 = pl.read_parquet(\"../data/bp3c50id/bp3c50id.rsa.parquet\")\n",
    "\n",
    "bp3"
   ]
  },
  {
   "cell_type": "markdown",
   "id": "49c40ec6",
   "metadata": {},
   "source": [
    "## Getting structural embeddings for a protein\n"
   ]
  },
  {
   "cell_type": "code",
   "execution_count": 17,
   "id": "d1cd1126",
   "metadata": {},
   "outputs": [
    {
     "data": {
      "text/plain": [
       "array([[-316.  , -916.  , -148.  , ...,  114.5 , -175.  ,   56.75],\n",
       "       [-498.  , -616.  , -120.5 , ...,  198.  , -235.  ,  105.5 ],\n",
       "       [-508.  , -608.  , -107.  , ...,  288.  , -241.  ,   -6.03],\n",
       "       ...,\n",
       "       [-370.  , -528.  , -242.  , ...,  163.  , -460.  , -227.  ],\n",
       "       [-370.  , -528.  , -242.  , ...,  163.  , -460.  , -227.  ],\n",
       "       [-370.  , -528.  , -242.  , ...,  163.  , -460.  , -227.  ]],\n",
       "      shape=(256, 384), dtype=float16)"
      ]
     },
     "execution_count": 17,
     "metadata": {},
     "output_type": "execute_result"
    }
   ],
   "source": [
    "from mdaf3.AF3OutputParser import AF3Output\n",
    "from pathlib import Path\n",
    "\n",
    "\n",
    "INF_DIR = Path(\"../data/bp3c50id/inference\")\n",
    "sample_job_name = bp3.select(\"job_name\")[0].item()\n",
    "\n",
    "af3_output = AF3Output(INF_DIR / sample_job_name)\n",
    "\n",
    "af3_single_embed = af3_output.get_single_embeddings()\n",
    "af3_pairwise_embed = af3_output.get_pair_embeddings()\n",
    "\n",
    "af3_single_embed"
   ]
  },
  {
   "cell_type": "markdown",
   "id": "7f1cda64",
   "metadata": {},
   "source": [
    "### The af3_output object can do a lot more:\n"
   ]
  },
  {
   "cell_type": "code",
   "execution_count": 19,
   "id": "8e84ca95",
   "metadata": {},
   "outputs": [
    {
     "name": "stdout",
     "output_type": "stream",
     "text": [
      "Alpha carbon pLDDT: [89.05000305 90.90000153 93.55000305 92.66999817 95.01999664 96.\n",
      " 97.02999878 96.05000305 97.12000275 96.63999939 96.61000061 95.05999756\n",
      " 93.01999664 93.45999908 92.69000244 93.5        93.80999756 93.55000305\n",
      " 92.87999725 91.15000153 88.44000244 82.69999695 76.98000336 72.58000183\n",
      " 68.90000153 72.23999786 69.37999725 71.36000061 77.56999969 84.30999756\n",
      " 87.66999817 91.04000092 92.34999847 93.26999664 93.         92.87000275\n",
      " 86.84999847 79.66000366 76.95999908 76.51000214 80.98999786 81.33999634\n",
      " 84.69999695 89.47000122 90.79000092 90.59999847 90.86000061 90.16999817\n",
      " 89.73999786 88.19000244 84.12999725 81.91999817 78.51000214 80.23999786\n",
      " 81.58000183 82.37999725 84.91000366 85.86000061 87.         85.43000031\n",
      " 80.48000336 74.48000336 74.86000061 60.11000061 59.43999863 62.54999924\n",
      " 57.09000015 70.15000153 77.37999725 75.16000366 75.26999664 73.08999634\n",
      " 64.12999725 57.47999954 55.90000153 61.22000122 75.45999908 83.11000061\n",
      " 84.58000183 87.79000092 90.01999664 90.48999786 90.80000305 88.38999939\n",
      " 89.47000122 91.26999664 91.04000092 91.87999725 89.41000366 90.81999969\n",
      " 93.27999878 93.80999756 95.09999847 95.44000244 95.37999725 93.48999786\n",
      " 92.26000214 88.79000092 80.73000336 69.51999664 64.80000305 66.72000122\n",
      " 77.19999695 84.18000031 89.05000305 91.90000153 93.55000305 94.54000092\n",
      " 96.01000214 96.37999725 96.51000214 95.43000031 96.23999786 95.08999634\n",
      " 96.22000122 91.58999634 80.5       ]\n"
     ]
    },
    {
     "name": "stderr",
     "output_type": "stream",
     "text": [
      "/home/lwoods/miniconda3/envs/epident-experiments/lib/python3.13/site-packages/MDAnalysis/coordinates/MMCIF.py:139: UserWarning: 1 A^3 CRYST1 record, this is usually a placeholder. Unit cell dimensions will be set to None.\n",
      "  warnings.warn(\n"
     ]
    }
   ],
   "source": [
    "u = af3_output.get_mda_universe()\n",
    "\n",
    "# select all alpha carbons in topology\n",
    "calphas = u.select_atoms(\"name CA\")\n",
    "\n",
    "# get their plddt\n",
    "print(f\"Alpha carbon pLDDT: {calphas.tempfactors}\")\n",
    "\n",
    "# get the contact probability array\n",
    "contact_probs = af3_output.get_contact_prob_ndarr()"
   ]
  },
  {
   "cell_type": "markdown",
   "id": "91ae6e70",
   "metadata": {},
   "source": [
    "## Getting LM embeddings for a protein\n"
   ]
  },
  {
   "cell_type": "code",
   "execution_count": 21,
   "id": "ae7add4b",
   "metadata": {},
   "outputs": [
    {
     "data": {
      "text/plain": [
       "tensor([[-7.9217e-02, -8.2230e-02,  5.8380e-02,  ...,  2.4681e-01,\n",
       "          9.6495e-02,  1.1700e+02],\n",
       "        [ 2.7191e-01,  1.3160e-01, -1.2749e-01,  ...,  8.3813e-02,\n",
       "          2.6999e-02,  1.1700e+02],\n",
       "        [ 7.5211e-02, -1.2474e-01, -3.1285e-01,  ..., -7.0912e-02,\n",
       "         -1.3021e-01,  1.1700e+02],\n",
       "        ...,\n",
       "        [-9.3008e-02,  1.5062e-01,  3.5336e-01,  ..., -3.2767e-01,\n",
       "         -1.1053e-01,  1.1700e+02],\n",
       "        [ 6.3777e-02,  1.2429e-01,  2.3989e-01,  ..., -2.6909e-01,\n",
       "          8.8695e-02,  1.1700e+02],\n",
       "        [ 7.8697e-02, -1.0143e-02,  3.3305e-01,  ..., -1.6285e-01,\n",
       "          1.1192e-01,  1.1700e+02]])"
      ]
     },
     "execution_count": 21,
     "metadata": {},
     "output_type": "execute_result"
    }
   ],
   "source": [
    "from pathlib import Path\n",
    "import torch\n",
    "\n",
    "ESM_ENCODING_DIR = Path(\"/tgen_labs/altin/esm_encodings\")\n",
    "\n",
    "sample_job_name = bp3.select(\"job_name\")[0].item()\n",
    "\n",
    "esm_2_embed = torch.load(ESM_ENCODING_DIR / (sample_job_name + \".pt\"))\n",
    "\n",
    "esm_2_embed"
   ]
  }
 ],
 "metadata": {
  "kernelspec": {
   "display_name": "epident-experiments",
   "language": "python",
   "name": "python3"
  },
  "language_info": {
   "codemirror_mode": {
    "name": "ipython",
    "version": 3
   },
   "file_extension": ".py",
   "mimetype": "text/x-python",
   "name": "python",
   "nbconvert_exporter": "python",
   "pygments_lexer": "ipython3",
   "version": "3.13.5"
  }
 },
 "nbformat": 4,
 "nbformat_minor": 5
}
